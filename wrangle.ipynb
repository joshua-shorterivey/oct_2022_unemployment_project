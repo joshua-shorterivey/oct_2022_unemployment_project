{
 "cells": [
  {
   "cell_type": "markdown",
   "metadata": {},
   "source": [
    "# Imports"
   ]
  },
  {
   "cell_type": "code",
   "execution_count": 2,
   "metadata": {},
   "outputs": [],
   "source": [
    "import pandas as pd\n",
    "import numpy as np\n",
    "import seaborn as sns\n",
    "import matplotlib.pyplot as plt\n",
    "\n",
    "import wrangle\n",
    "\n",
    "from os.path import exists\n",
    "\n",
    "from sklearn.model_selection import train_test_split\n",
    "from sklearn.impute import SimpleImputer\n",
    "from sklearn.preprocessing import MinMaxScaler\n",
    "from sklearn import preprocessing\n",
    "from importlib import reload\n",
    "\n",
    "import warnings\n",
    "#warnings.filterwarnings(\"ignore\")\n"
   ]
  },
  {
   "cell_type": "markdown",
   "metadata": {},
   "source": [
    "# Acquire"
   ]
  },
  {
   "cell_type": "code",
   "execution_count": 3,
   "metadata": {},
   "outputs": [],
   "source": [
    "raw = pd.read_csv('oct22pub.csv')"
   ]
  },
  {
   "cell_type": "code",
   "execution_count": 4,
   "metadata": {},
   "outputs": [
    {
     "name": "stdout",
     "output_type": "stream",
     "text": [
      "<class 'pandas.core.frame.DataFrame'>\n",
      "RangeIndex: 126649 entries, 0 to 126648\n",
      "Columns: 388 entries, hrhhid2 to pternh2\n",
      "dtypes: float64(337), int64(51)\n",
      "memory usage: 374.9 MB\n"
     ]
    }
   ],
   "source": [
    "raw.info()"
   ]
  },
  {
   "cell_type": "code",
   "execution_count": 5,
   "metadata": {},
   "outputs": [],
   "source": [
    "raw.columns = raw.columns.str.lower()"
   ]
  },
  {
   "cell_type": "markdown",
   "metadata": {},
   "source": [
    "## Desired Columns\n",
    "\n",
    "'hryear4', 'hurespli', 'hufinal', 'hetenure', 'hehousut', 'hetelavl', 'hefaminc', 'hrnumhou', 'hrhtype', hrlonglk, hrhhid2, hubus, hubusl1, hubusl2, hubusl4, gereg, gediv, gestfips, gtcbsast, gtmetsta, gtcbsasz, prtage, partfage, pemaritl, peafever, peafnow, peeduca, ptdtrace, prdthsp, pehspnon, prmarsta, prpertyp, penatvty, pemntvty, pefntvty, prcitshp, prinusyr, pemlr, puwk, pubus1, pubus2ot, pudis, peret1, pudis1, pudis2, puabsot, pulay, peabsrsn, peabspdo, pemjot, pemjnum, pehrusl1, pehrusl2, perhrftpt, pehruslt, pehrwant, pehrrsn1, pehrrsn3, purhoff1, purhoff2, puhrot1, pehract1, pehract2, pehravl, pelayfto, pelkavl, pulkavr, pelkll10, pelkdur, pelkfto, pedwldo, pedwwk, pejhwko, pejhrsn, pejhwant, prabsrea, prcibvlf, prdisc, premphrs, prempnot, prexplf, prftlf, prhrusl, prjobsea, prpthrs, prptrea, prwksch, prwkstat, prwntjob, puiodp1, puiodp2, peio1cow, puio2cow, puio2mfg, prioelg, pragna, prcow1, prcow2, prdtcow1, prdtcow2, prdtind1, prdtind3, prdtocc1, prdtocc2, premp, prmjind1, prmjind2, prmjocc1, prmjocc2, prmjocgr, prnagpws, prnagws, prsjms, peernuot, peernper, peernrt, peernhry, pternh1c, pternh2, pternh1o, pternhly, pthr, peernhro, pternwa, ptwk, ptern, ptot, peernwkp, peernlab, peerncov, penlfjh, penlfret, penlfact, pescenr, peschft, peschlvl, prnlfsch, prchld, prnmchld, pedipged, pehgcomp, pecyc, peio1icd, ptio1ocd, peio2icd, ptio2ocd, primind1, primind2, pecert1"
   ]
  },
  {
   "cell_type": "code",
   "execution_count": 6,
   "metadata": {},
   "outputs": [],
   "source": [
    "wanted = 'hrlonglk, hrhhid2, hubus, hubusl1, hubusl2, hubusl4, gereg, gediv, gestfips, gtcbsast, gtmetsta, gtcbsasz, prtage, prtfage, pemaritl, peafever, peafnow, peeduca, ptdtrace, prdthsp, pehspnon, prmarsta, prpertyp, penatvty, pemntvty, pefntvty, prcitshp, pemlr, puwk, pubus1, pubus2ot, pudis, peret1, pudis1, pudis2, puabsot, pulay, peabsrsn, peabspdo, pemjot, pemjnum, pehrusl1, pehrusl2, pehrftpt, pehruslt, pehrwant, pehrrsn1, pehrrsn2, pehrrsn3, puhroff1, puhroff2, puhrot1, pehract1, pehract2, pehravl, pelayfto, pelkavl, pulkavr, pelkll1o, pelkdur, pelkfto, pedwlko, pedwwk, pejhwko, pejhrsn, pejhwant, prabsrea, prcivlf, prdisc, premphrs, prempnot, prexplf, prftlf, prhrusl, prjobsea, prpthrs, prptrea, prwksch, prwkstat, prwntjob, puiodp1, puiodp2, peio1cow, peio2cow, puio2mfg, prioelg, pragna, prcow1, prcow2, prdtcow1, prdtcow2, prdtind1, prdtind2, prdtocc1, prdtocc2, premp, prmjind1, prmjind2, prmjocc1, prmjocc2, prmjocgr, prnagpws, prnagws, prsjmj, peernuot, peernper, peernrt, peernhry, pternh1c, pternh2, pternh1o, pternhly, pthr, peernhro, pternwa, ptwk, ptern, ptot, peernwkp, peernlab, peerncov, penlfjh, penlfret, penlfact, peschenr, peschft, peschlvl, prnlfsch, prchld, prnmchld, pedipged, pehgcomp, pecyc, peio1icd, ptio1ocd, peio2icd, ptio2ocd, primind1, primind2, pecert1'\n",
    "wanted_list = wanted.split(', ')\n",
    "wanted_list = ['hryear4', 'hurespli', 'hufinal', 'hehousut', 'hetelavl', 'hefaminc', 'hrnumhou', 'hrhtype', 'pesex'] + wanted_list\n",
    "\n",
    "column_not_in_frame = []\n",
    "\n",
    "for col in wanted_list:\n",
    "    if col not in raw.columns.str.lower().to_list():\n",
    "        column_not_in_frame.append(col)\n",
    "        print(col)"
   ]
  },
  {
   "cell_type": "markdown",
   "metadata": {},
   "source": [
    "## Takeaways \n",
    "* fixed typos in list of desired columns\n",
    "* Check original data dictionary for:\n",
    "    - hetenure not in ddrame --> need to drop from desired list\n",
    "    - prsjmj - prsjms not in dframe --> prsjmj contains the information\n",
    "    - prinusyr not in dframe - Immigrant's year of entry\n",
    "    "
   ]
  },
  {
   "cell_type": "code",
   "execution_count": 7,
   "metadata": {},
   "outputs": [],
   "source": [
    "# df.loc[:, wanted_list]\n",
    "df = raw[wanted_list]"
   ]
  },
  {
   "cell_type": "code",
   "execution_count": 8,
   "metadata": {},
   "outputs": [
    {
     "name": "stdout",
     "output_type": "stream",
     "text": [
      "['hryear4', 'hurespli', 'hufinal', 'hehousut', 'hetelavl', 'hefaminc', 'hrnumhou', 'hrhtype', 'pesex', 'hrlonglk', 'hrhhid2', 'hubus', 'hubusl1', 'hubusl2', 'hubusl4', 'gereg', 'gediv', 'gestfips', 'gtcbsast', 'gtmetsta', 'gtcbsasz', 'prtage', 'prtfage', 'pemaritl', 'peafever', 'peafnow', 'peeduca', 'ptdtrace', 'prdthsp', 'pehspnon', 'prmarsta', 'prpertyp', 'penatvty', 'pemntvty', 'pefntvty', 'prcitshp', 'pemlr', 'puwk', 'pubus1', 'pubus2ot', 'pudis', 'peret1', 'pudis1', 'pudis2', 'puabsot', 'pulay', 'peabsrsn', 'peabspdo', 'pemjot', 'pemjnum', 'pehrusl1', 'pehrusl2', 'pehrftpt', 'pehruslt', 'pehrwant', 'pehrrsn1', 'pehrrsn2', 'pehrrsn3', 'puhroff1', 'puhroff2', 'puhrot1', 'pehract1', 'pehract2', 'pehravl', 'pelayfto', 'pelkavl', 'pulkavr', 'pelkll1o', 'pelkdur', 'pelkfto', 'pedwlko', 'pedwwk', 'pejhwko', 'pejhrsn', 'pejhwant', 'prabsrea', 'prcivlf', 'prdisc', 'premphrs', 'prempnot', 'prexplf', 'prftlf', 'prhrusl', 'prjobsea', 'prpthrs', 'prptrea', 'prwksch', 'prwkstat', 'prwntjob', 'puiodp1', 'puiodp2', 'peio1cow', 'peio2cow', 'puio2mfg', 'prioelg', 'pragna', 'prcow1', 'prcow2', 'prdtcow1', 'prdtcow2', 'prdtind1', 'prdtind2', 'prdtocc1', 'prdtocc2', 'premp', 'prmjind1', 'prmjind2', 'prmjocc1', 'prmjocc2', 'prmjocgr', 'prnagpws', 'prnagws', 'prsjmj', 'peernuot', 'peernper', 'peernrt', 'peernhry', 'pternh1c', 'pternh2', 'pternh1o', 'pternhly', 'pthr', 'peernhro', 'pternwa', 'ptwk', 'ptern', 'ptot', 'peernwkp', 'peernlab', 'peerncov', 'penlfjh', 'penlfret', 'penlfact', 'peschenr', 'peschft', 'peschlvl', 'prnlfsch', 'prchld', 'prnmchld', 'pedipged', 'pehgcomp', 'pecyc', 'peio1icd', 'ptio1ocd', 'peio2icd', 'ptio2ocd', 'primind1', 'primind2', 'pecert1']\n"
     ]
    }
   ],
   "source": [
    "print(df.columns.to_list())"
   ]
  },
  {
   "cell_type": "code",
   "execution_count": 9,
   "metadata": {},
   "outputs": [],
   "source": [
    "second_cut = ['hryear4','hufinal', 'hehousut', 'hefaminc', 'hrnumhou', 'hrhtype', 'hrhhid2', 'hubus',\\\n",
    "'gereg', 'gediv', 'gestfips', 'gtcbsast', 'gtmetsta', 'gtcbsasz', 'prtage', 'prtfage', \\\n",
    "'pemaritl', 'pesex', 'peafever', 'peafnow', 'peeduca', 'ptdtrace', 'pehspnon', 'prmarsta', 'penatvty', 'pemntvty',\\\n",
    "'pefntvty', 'prcitshp', 'pemlr', 'pubus1', 'pubus2ot', 'pudis', 'peret1', 'pudis2', \\\n",
    "'pemjot', 'pemjnum', 'pehrftpt', 'pehruslt', 'pehrwant', 'pehrrsn2',\\\n",
    "'puhroff1', 'puhroff2', 'puhrot1', 'pehract1', 'pehract2', 'pehravl', 'pelayfto', 'pelkavl', 'pedwlko', 'pedwwk', 'pejhwant', 'prempnot',\\\n",
    "'prwntjob', 'prcow1', 'prcow2', \\\n",
    "'prmjind1', 'prmjind2', 'prmjocc1', 'prmjocc2', 'prmjocgr', 'peernuot', 'peernhro', 'peernwkp',\\\n",
    "'penlfjh', 'penlfret', 'penlfact', 'peschenr', 'peschft', 'peschlvl', 'prnlfsch','pehgcomp', 'prchld', 'prnmchld',\\\n",
    "'pedipged', 'pecert1']"
   ]
  },
  {
   "cell_type": "code",
   "execution_count": 10,
   "metadata": {},
   "outputs": [],
   "source": [
    "df = df[second_cut]"
   ]
  },
  {
   "cell_type": "code",
   "execution_count": 11,
   "metadata": {},
   "outputs": [
    {
     "data": {
      "text/plain": [
       "201    92966\n",
       "218    11989\n",
       "1       7151\n",
       "226     6202\n",
       "219     2935\n",
       "216     1100\n",
       "225      768\n",
       "203      613\n",
       "229      435\n",
       "228      433\n",
       "227      303\n",
       "259      274\n",
       "231      253\n",
       "217      202\n",
       "233      117\n",
       "223      115\n",
       "213      114\n",
       "240       99\n",
       "230       95\n",
       "2         86\n",
       "248       84\n",
       "241       67\n",
       "232       66\n",
       "243       64\n",
       "214       49\n",
       "4         24\n",
       "245       18\n",
       "244       17\n",
       "247        8\n",
       "258        1\n",
       "224        1\n",
       "Name: hufinal, dtype: int64"
      ]
     },
     "execution_count": 11,
     "metadata": {},
     "output_type": "execute_result"
    }
   ],
   "source": [
    "#big change in numbers here\n",
    "df.hufinal.value_counts(dropna=False)"
   ]
  },
  {
   "cell_type": "code",
   "execution_count": 12,
   "metadata": {},
   "outputs": [],
   "source": [
    "#decided to dropna's cleared up problem with target variable\n",
    "df = df.dropna()\n",
    "\n",
    "#artifacts from trying to work figure out how to handle na's\n",
    "#big change in numbers here\n",
    "# df.hufinal.value_counts(dropna=False) --> column dropped\n",
    "# df.columns[df.isnull().any()]\n",
    "# df[df.hufinal != (218)][['pemlr', 'prexplf', 'prempnot']].value_counts(dropna=False)\n",
    "# df[['prmjind1', 'prmjind2','prmjocc1', 'prmjocc2', 'prmjocgr']].value_counts(dropna=False)\n",
    "# df[['pemlr', 'prexplf', 'prempnot']].value_counts(dropna=False)\n",
    "# df[['pemlr', 'prexplf', 'prempnot']].value_counts(normalize=True, dropna=False)"
   ]
  },
  {
   "cell_type": "markdown",
   "metadata": {},
   "source": [
    "## Takeaways\n",
    "* Still need to verify the industry recodes\n",
    "* eliminated additional columns that had greater change of leakage\n",
    "----\n",
    "* need to verify contents of industry recodes for viability\n",
    "* look into hufinal and use that to drop records that refused to respond --> changing strategy\n",
    "* drop any records that have 'NaN' for target variable, indicates incomplete survey/data\n",
    "----\n",
    "* decided to just do a straight dropna()"
   ]
  },
  {
   "cell_type": "markdown",
   "metadata": {},
   "source": [
    "# Prepare\n",
    "* Goals:\n",
    "    - Get down to 30 columns\n",
    "* Takeaways/fixes\n",
    "    - Get ride of prtage == 0  or impute \n",
    "    - fix peafever --> add answers from peafnow to capture active duty \n",
    "    - ptdtrace, pehspnon --> hispanic/non needs to be added to race and race needs to be handled --> disregard\n",
    "    - pemlr, prexplf, prempnot --> use information to create disposition\n"
   ]
  },
  {
   "cell_type": "code",
   "execution_count": 13,
   "metadata": {},
   "outputs": [
    {
     "data": {
      "text/plain": [
       "0         False\n",
       "1         False\n",
       "2         False\n",
       "3         False\n",
       "4         False\n",
       "          ...  \n",
       "126641    False\n",
       "126642    False\n",
       "126643    False\n",
       "126645    False\n",
       "126646    False\n",
       "Name: peafever, Length: 100839, dtype: bool"
      ]
     },
     "execution_count": 13,
     "metadata": {},
     "output_type": "execute_result"
    }
   ],
   "source": [
    "df.peafever == 1"
   ]
  },
  {
   "cell_type": "code",
   "execution_count": 14,
   "metadata": {},
   "outputs": [
    {
     "name": "stderr",
     "output_type": "stream",
     "text": [
      "/var/folders/x7/9w9mh0fd73zg4jr8l_9v9h840000gn/T/ipykernel_73387/1026979021.py:1: SettingWithCopyWarning: \n",
      "A value is trying to be set on a copy of a slice from a DataFrame.\n",
      "Try using .loc[row_indexer,col_indexer] = value instead\n",
      "\n",
      "See the caveats in the documentation: https://pandas.pydata.org/pandas-docs/stable/user_guide/indexing.html#returning-a-view-versus-a-copy\n",
      "  df[df.peafnow == 1].loc[:,'peafever'] =1\n"
     ]
    }
   ],
   "source": [
    "df[df.peafnow == 1].loc[:,'peafever'] =1"
   ]
  },
  {
   "cell_type": "code",
   "execution_count": 15,
   "metadata": {},
   "outputs": [
    {
     "data": {
      "text/plain": [
       "80.0    2526\n",
       "85.0    2163\n",
       "Name: prtage, dtype: int64"
      ]
     },
     "execution_count": 15,
     "metadata": {},
     "output_type": "execute_result"
    }
   ],
   "source": [
    "# remove prtfage. is top code for ages above 80\n",
    "df[df.prtfage == 1]['prtage'].value_counts()"
   ]
  },
  {
   "cell_type": "code",
   "execution_count": 16,
   "metadata": {},
   "outputs": [
    {
     "name": "stderr",
     "output_type": "stream",
     "text": [
      "/var/folders/x7/9w9mh0fd73zg4jr8l_9v9h840000gn/T/ipykernel_73387/827805036.py:2: SettingWithCopyWarning: \n",
      "A value is trying to be set on a copy of a slice from a DataFrame.\n",
      "Try using .loc[row_indexer,col_indexer] = value instead\n",
      "\n",
      "See the caveats in the documentation: https://pandas.pydata.org/pandas-docs/stable/user_guide/indexing.html#returning-a-view-versus-a-copy\n",
      "  df[df.peafnow == 1].loc[:,'peafever'] = 1\n"
     ]
    },
    {
     "data": {
      "text/plain": [
       "peafever\n",
       " 2.0        74791\n",
       "-1.0        20173\n",
       " 1.0         5875\n",
       "dtype: int64"
      ]
     },
     "execution_count": 16,
     "metadata": {},
     "output_type": "execute_result"
    }
   ],
   "source": [
    "# fixing peafnow  --> get rid of peafnow\n",
    "df[df.peafnow == 1].loc[:,'peafever'] = 1\n",
    "df[['peafever']].value_counts(dropna=False)"
   ]
  },
  {
   "cell_type": "code",
   "execution_count": 17,
   "metadata": {},
   "outputs": [],
   "source": [
    "# create function to flatten race in less categories\n",
    "def flatten_race(val):\n",
    "    if val == 1:\n",
    "        val = 'white'\n",
    "    elif val == 2:\n",
    "        val = 'black'\n",
    "    elif val == 3:\n",
    "        val = 'AI/NA'\n",
    "    elif val == 4:\n",
    "        val = 'asian'\n",
    "    elif val == 5:\n",
    "        val = 'HI/PI'\n",
    "    elif 5 < val < 10:\n",
    "        val = 'mixed_white'\n",
    "    elif 10 <= val < 27 :\n",
    "        val = 'mixed_other'\n",
    "    return val\n",
    "\n",
    "df['ptdtrace'] = df['ptdtrace'].apply(flatten_race)\n",
    "\n",
    "#artifact from trying to combine with Hispanic status\n",
    "# df[['ptdtrace','pehspnon']].sort_values('pehspnon').value_counts()"
   ]
  },
  {
   "cell_type": "code",
   "execution_count": 18,
   "metadata": {},
   "outputs": [],
   "source": [
    "# remove responses from people not in the labor force by means other that discouragement\n",
    "df = df[df.prempnot != 4]"
   ]
  },
  {
   "cell_type": "code",
   "execution_count": 19,
   "metadata": {},
   "outputs": [],
   "source": [
    "# remove responses from unqualified respondents (children and active armed forces members)\n",
    "df = df[df.prempnot != (-1)]"
   ]
  },
  {
   "cell_type": "code",
   "execution_count": 20,
   "metadata": {},
   "outputs": [],
   "source": [
    "# binary recode of premmpnot to include repsondents discourage from workforce participation as unemployed\n",
    "df.prempnot = np.where(df.prempnot == 1, 1, 0)"
   ]
  },
  {
   "cell_type": "code",
   "execution_count": 21,
   "metadata": {},
   "outputs": [
    {
     "data": {
      "text/plain": [
       "1    48086\n",
       "0     1677\n",
       "Name: prempnot, dtype: int64"
      ]
     },
     "execution_count": 21,
     "metadata": {},
     "output_type": "execute_result"
    }
   ],
   "source": [
    "df.prempnot.value_counts()"
   ]
  },
  {
   "cell_type": "code",
   "execution_count": 22,
   "metadata": {},
   "outputs": [],
   "source": [
    "final_list = ['hehousut', 'hefaminc', 'hrnumhou', 'hrhtype','hubus',\\\n",
    "'gediv', 'gestfips', 'gtmetsta', 'gtcbsasz', 'prtage', 'pesex', \\\n",
    "'pemaritl', 'peafever', 'peeduca', 'ptdtrace', 'pehspnon', 'penatvty', 'pemntvty','pehrftpt',\\\n",
    "'pefntvty', 'prcitshp', 'pubus1', 'pudis2', 'pehruslt', 'pelkavl', 'pedwlko', 'pedwwk', 'pejhwant', 'prempnot',\\\n",
    "'prmjind1', 'prmjocc1', 'peernuot', 'peschenr', 'prchld', 'pecert1']"
   ]
  },
  {
   "cell_type": "code",
   "execution_count": 23,
   "metadata": {},
   "outputs": [],
   "source": [
    "df = df[final_list]"
   ]
  },
  {
   "cell_type": "markdown",
   "metadata": {},
   "source": [
    "# Prepare - Part II\n",
    "* Goals:\n",
    "    - Change column names\n",
    "* Takeaways\n",
    "    - `usual_35_hours_more`/`pehrftpt` can be removed, and data used to impute values in `usual_hours_worked`\n",
    "    - use apply function to take handle --> back to before column renaming for flow purposes. leave as is for now"
   ]
  },
  {
   "cell_type": "code",
   "execution_count": 24,
   "metadata": {},
   "outputs": [],
   "source": [
    "df = df.rename(columns={'hehousut': 'housing_type',\n",
    "'hefaminc': 'family_income',\n",
    "'hrnumhou': 'household_num',\n",
    "'hrhtype': 'household_type',\n",
    "'hubus': 'own_bus_or_farm',\n",
    "'gediv': 'country_region',\n",
    "'gestfips': 'state',\n",
    "'gtmetsta': 'metropolitan',\n",
    "'gtcbsasz': 'metro_area_size',\n",
    "'prtage': 'age',\n",
    "'pesex': 'sex',\n",
    "'pemaritl': 'marital_status',\n",
    "'peafever': 'veteran',\n",
    "'peeduca': 'education',\n",
    "'ptdtrace': 'race',\n",
    "'pehspnon': 'hispanic_or_non',\n",
    "'penatvty': 'birth_country',\n",
    "'pemntvty': 'mother_birth_country',\n",
    "'pefntvty': 'father_birth_country',\n",
    "'prcitshp': 'citizenship',\n",
    "'pubus1': 'upaid_work_last_week',\n",
    "'pudis2': 'disability_preventing_work_in_next_6_months',\n",
    "'pehrftpt' : 'usual_35_hours_more',\n",
    "'pehruslt': 'usual_hours_worked',\n",
    "'pelkavl': 'could_have_started_job',\n",
    "'pedwlko': 'sought_work_last_12_months',\n",
    "'pedwwk': 'worked_last_12_months',\n",
    "'pejhwant': 'intend_to_look_next_12_months',\n",
    "'prempnot': 'employed',\n",
    "'prmjind1': 'industry',\n",
    "'prmjocc1': 'occupation',\n",
    "'peernuot': 'usual_ot_tips_commis',\n",
    "'peschenr': 'enrolled_in_school',\n",
    "'prchld': 'children_in_household',\n",
    "'pecert1': 'professional_certification'})"
   ]
  },
  {
   "cell_type": "code",
   "execution_count": 25,
   "metadata": {},
   "outputs": [
    {
     "name": "stderr",
     "output_type": "stream",
     "text": [
      "/var/folders/x7/9w9mh0fd73zg4jr8l_9v9h840000gn/T/ipykernel_73387/2175599582.py:11: SettingWithCopyWarning: \n",
      "A value is trying to be set on a copy of a slice from a DataFrame.\n",
      "Try using .loc[row_indexer,col_indexer] = value instead\n",
      "\n",
      "See the caveats in the documentation: https://pandas.pydata.org/pandas-docs/stable/user_guide/indexing.html#returning-a-view-versus-a-copy\n",
      "  df[df.usual_35_hours_more == 1]['usual_hours_worked'] = more_than_35\n",
      "/var/folders/x7/9w9mh0fd73zg4jr8l_9v9h840000gn/T/ipykernel_73387/2175599582.py:12: SettingWithCopyWarning: \n",
      "A value is trying to be set on a copy of a slice from a DataFrame.\n",
      "Try using .loc[row_indexer,col_indexer] = value instead\n",
      "\n",
      "See the caveats in the documentation: https://pandas.pydata.org/pandas-docs/stable/user_guide/indexing.html#returning-a-view-versus-a-copy\n",
      "  df[df.usual_35_hours_more == 2]['usual_hours_worked'] = less_than_35\n"
     ]
    }
   ],
   "source": [
    "#work done to fix usual_hours_worked with manual imputation \n",
    "# *****MUSTBEDONEAFTERNAMECHANGEFORNOW****\n",
    "\n",
    "df[df.usual_hours_worked == -4].usual_35_hours_more.value_counts()\n",
    "df.usual_35_hours_more.value_counts()\n",
    "#mean hours worked for those less that work less than 35\n",
    "more_than_35 = round(df[df.usual_hours_worked > 35].usual_hours_worked.mean())\n",
    "#mean hours worked for those less that work less than 35\n",
    "less_than_35 = round(df[(df.usual_hours_worked > 0) & (df.usual_hours_worked < 35)].usual_hours_worked.mean())\n",
    "df[['usual_35_hours_more', 'usual_hours_worked']].value_counts()\n",
    "df[df.usual_35_hours_more == 1]['usual_hours_worked'] = more_than_35\n",
    "df[df.usual_35_hours_more == 2]['usual_hours_worked'] = less_than_35\n",
    "\n",
    "df = df.drop(columns='usual_35_hours_more')"
   ]
  },
  {
   "cell_type": "code",
   "execution_count": 26,
   "metadata": {},
   "outputs": [
    {
     "data": {
      "text/plain": [
       "['housing_type',\n",
       " 'family_income',\n",
       " 'household_num',\n",
       " 'household_type',\n",
       " 'own_bus_or_farm',\n",
       " 'country_region',\n",
       " 'state',\n",
       " 'metropolitan',\n",
       " 'metro_area_size',\n",
       " 'age',\n",
       " 'sex',\n",
       " 'marital_status',\n",
       " 'veteran',\n",
       " 'education',\n",
       " 'race',\n",
       " 'hispanic_or_non',\n",
       " 'birth_country',\n",
       " 'mother_birth_country',\n",
       " 'father_birth_country',\n",
       " 'citizenship',\n",
       " 'upaid_work_last_week',\n",
       " 'disability_preventing_work_in_next_6_months',\n",
       " 'usual_hours_worked',\n",
       " 'could_have_started_job',\n",
       " 'sought_work_last_12_months',\n",
       " 'worked_last_12_months',\n",
       " 'intend_to_look_next_12_months',\n",
       " 'employed',\n",
       " 'industry',\n",
       " 'occupation',\n",
       " 'usual_ot_tips_commis',\n",
       " 'enrolled_in_school',\n",
       " 'children_in_household',\n",
       " 'professional_certification']"
      ]
     },
     "execution_count": 26,
     "metadata": {},
     "output_type": "execute_result"
    }
   ],
   "source": [
    "df.columns.to_list()"
   ]
  },
  {
   "cell_type": "code",
   "execution_count": 27,
   "metadata": {},
   "outputs": [
    {
     "name": "stdout",
     "output_type": "stream",
     "text": [
      "<class 'pandas.core.frame.DataFrame'>\n",
      "Int64Index: 49763 entries, 0 to 126646\n",
      "Data columns (total 34 columns):\n",
      " #   Column                                       Non-Null Count  Dtype  \n",
      "---  ------                                       --------------  -----  \n",
      " 0   housing_type                                 49763 non-null  int64  \n",
      " 1   family_income                                49763 non-null  int64  \n",
      " 2   household_num                                49763 non-null  int64  \n",
      " 3   household_type                               49763 non-null  int64  \n",
      " 4   own_bus_or_farm                              49763 non-null  int64  \n",
      " 5   country_region                               49763 non-null  int64  \n",
      " 6   state                                        49763 non-null  int64  \n",
      " 7   metropolitan                                 49763 non-null  int64  \n",
      " 8   metro_area_size                              49763 non-null  int64  \n",
      " 9   age                                          49763 non-null  float64\n",
      " 10  sex                                          49763 non-null  float64\n",
      " 11  marital_status                               49763 non-null  float64\n",
      " 12  veteran                                      49763 non-null  float64\n",
      " 13  education                                    49763 non-null  float64\n",
      " 14  race                                         49763 non-null  object \n",
      " 15  hispanic_or_non                              49763 non-null  float64\n",
      " 16  birth_country                                49763 non-null  float64\n",
      " 17  mother_birth_country                         49763 non-null  float64\n",
      " 18  father_birth_country                         49763 non-null  float64\n",
      " 19  citizenship                                  49763 non-null  float64\n",
      " 20  upaid_work_last_week                         49763 non-null  float64\n",
      " 21  disability_preventing_work_in_next_6_months  49763 non-null  float64\n",
      " 22  usual_hours_worked                           49763 non-null  float64\n",
      " 23  could_have_started_job                       49763 non-null  float64\n",
      " 24  sought_work_last_12_months                   49763 non-null  float64\n",
      " 25  worked_last_12_months                        49763 non-null  float64\n",
      " 26  intend_to_look_next_12_months                49763 non-null  float64\n",
      " 27  employed                                     49763 non-null  int64  \n",
      " 28  industry                                     49763 non-null  float64\n",
      " 29  occupation                                   49763 non-null  float64\n",
      " 30  usual_ot_tips_commis                         49763 non-null  float64\n",
      " 31  enrolled_in_school                           49763 non-null  float64\n",
      " 32  children_in_household                        49763 non-null  float64\n",
      " 33  professional_certification                   49763 non-null  float64\n",
      "dtypes: float64(23), int64(10), object(1)\n",
      "memory usage: 13.3+ MB\n"
     ]
    }
   ],
   "source": [
    "df.info()"
   ]
  },
  {
   "cell_type": "markdown",
   "metadata": {},
   "source": [
    "# Prepare - Part III\n",
    "* Goals\n",
    "    - identify final categorical vs numerical column disposition\n",
    "    - binary encode where able\n",
    "    - ~~translate to numerical when able~~ leave numerical alone\n",
    "    - flatten necessary categorical columns \n",
    "        * possible save until after exploration phase. may be unnecessary\n",
    "        * housing_type, household_type, marital_status, birth_country, mother_birth_country, father_birth_country\n"
   ]
  },
  {
   "cell_type": "code",
   "execution_count": 28,
   "metadata": {},
   "outputs": [],
   "source": [
    "#fixing types on categorical columns\n",
    "categorical_cols = ['housing_type','family_income','household_type',\n",
    "                    'country_region','state','metropolitan','metro_area_size',\n",
    "                    'marital_status','education','race','birth_country',\n",
    "                    'mother_birth_country','father_birth_country','citizenship',\n",
    "                    'industry','occupation']\n",
    "\n",
    "#for loop to handle assignment as object\n",
    "for col in categorical_cols:\n",
    "    df[col] = (df[col].astype('object'))"
   ]
  },
  {
   "cell_type": "code",
   "execution_count": 29,
   "metadata": {},
   "outputs": [],
   "source": [
    "#fixing binary columns freom -1, 1, 2 --> 0, 1\n",
    "binary_cols = ['own_bus_or_farm', 'sex', 'veteran','hispanic_or_non', \n",
    "                'upaid_work_last_week','could_have_started_job',\n",
    "                'sought_work_last_12_months', 'worked_last_12_months',\n",
    "                'intend_to_look_next_12_months','employed', 'usual_ot_tips_commis',\n",
    "                'enrolled_in_school','professional_certification']\n"
   ]
  },
  {
   "cell_type": "code",
   "execution_count": 30,
   "metadata": {},
   "outputs": [],
   "source": [
    "# changed all non-affirmative answers to negative. tips, school, most affected\n",
    "for col in binary_cols:\n",
    "    df[col] = np.where(df[col] == 1, 1, 0)"
   ]
  },
  {
   "cell_type": "code",
   "execution_count": 31,
   "metadata": {},
   "outputs": [
    {
     "name": "stdout",
     "output_type": "stream",
     "text": [
      "<class 'pandas.core.frame.DataFrame'>\n",
      "Int64Index: 49763 entries, 0 to 126646\n",
      "Data columns (total 34 columns):\n",
      " #   Column                                       Non-Null Count  Dtype  \n",
      "---  ------                                       --------------  -----  \n",
      " 0   housing_type                                 49763 non-null  object \n",
      " 1   family_income                                49763 non-null  object \n",
      " 2   household_num                                49763 non-null  int64  \n",
      " 3   household_type                               49763 non-null  object \n",
      " 4   own_bus_or_farm                              49763 non-null  int64  \n",
      " 5   country_region                               49763 non-null  object \n",
      " 6   state                                        49763 non-null  object \n",
      " 7   metropolitan                                 49763 non-null  object \n",
      " 8   metro_area_size                              49763 non-null  object \n",
      " 9   age                                          49763 non-null  float64\n",
      " 10  sex                                          49763 non-null  int64  \n",
      " 11  marital_status                               49763 non-null  object \n",
      " 12  veteran                                      49763 non-null  int64  \n",
      " 13  education                                    49763 non-null  object \n",
      " 14  race                                         49763 non-null  object \n",
      " 15  hispanic_or_non                              49763 non-null  int64  \n",
      " 16  birth_country                                49763 non-null  object \n",
      " 17  mother_birth_country                         49763 non-null  object \n",
      " 18  father_birth_country                         49763 non-null  object \n",
      " 19  citizenship                                  49763 non-null  object \n",
      " 20  upaid_work_last_week                         49763 non-null  int64  \n",
      " 21  disability_preventing_work_in_next_6_months  49763 non-null  float64\n",
      " 22  usual_hours_worked                           49763 non-null  float64\n",
      " 23  could_have_started_job                       49763 non-null  int64  \n",
      " 24  sought_work_last_12_months                   49763 non-null  int64  \n",
      " 25  worked_last_12_months                        49763 non-null  int64  \n",
      " 26  intend_to_look_next_12_months                49763 non-null  int64  \n",
      " 27  employed                                     49763 non-null  int64  \n",
      " 28  industry                                     49763 non-null  object \n",
      " 29  occupation                                   49763 non-null  object \n",
      " 30  usual_ot_tips_commis                         49763 non-null  int64  \n",
      " 31  enrolled_in_school                           49763 non-null  int64  \n",
      " 32  children_in_household                        49763 non-null  float64\n",
      " 33  professional_certification                   49763 non-null  int64  \n",
      "dtypes: float64(4), int64(14), object(16)\n",
      "memory usage: 13.3+ MB\n"
     ]
    }
   ],
   "source": [
    "df.info()"
   ]
  },
  {
   "cell_type": "markdown",
   "metadata": {},
   "source": [
    "# Prep: Part IV \n",
    "* Goal:\n",
    "    - Create functions that will handle sections of prep \n",
    "    - Big wrangle Function --> prep_aug()\n",
    "    - don't forget to add docstring placeholders"
   ]
  },
  {
   "cell_type": "code",
   "execution_count": 32,
   "metadata": {},
   "outputs": [],
   "source": [
    "def acquire_aug():\n",
    "    ''' \n",
    "    Purpose:\n",
    "\n",
    "    ---\n",
    "\n",
    "    Parameters:\n",
    "\n",
    "    ---\n",
    "\n",
    "    Output:\n",
    "    \n",
    "    ---\n",
    "    '''\n",
    "\n",
    "    df = pd.read_csv('aug22pub.csv')\n",
    "\n",
    "    df.columns = df.columns.str.lower()\n",
    "    \n",
    "    return df\n",
    "\n",
    "# create function to flatten race in less categories\n",
    "def flatten_race(val):\n",
    "    ''' \n",
    "    Purpose:\n",
    "\n",
    "    ---\n",
    "\n",
    "    Parameters:\n",
    "\n",
    "    ---\n",
    "\n",
    "    Output:\n",
    "    \n",
    "    ---\n",
    "    '''\n",
    "    if val == 1:\n",
    "        val = 'white'\n",
    "    elif val == 2:\n",
    "        val = 'black'\n",
    "    elif val == 3:\n",
    "        val = 'AI/NA'\n",
    "    elif val == 4:\n",
    "        val = 'asian'\n",
    "    elif val == 5:\n",
    "        val = 'HI/PI'\n",
    "    elif 5 < val < 10:\n",
    "        val = 'mixed_white'\n",
    "    elif 10 < 27 :\n",
    "        val = 'mixed_other'\n",
    "    return val\n",
    "\n",
    "\n",
    "def prep_values(df):\n",
    "    ''' \n",
    "    Purpose:\n",
    "\n",
    "    ---\n",
    "\n",
    "    Parameters:\n",
    "\n",
    "    ---\n",
    "\n",
    "    Output:\n",
    "    \n",
    "    ---\n",
    "    '''\n",
    "\n",
    "    #decided to dropna's cleared up problem with target variable\n",
    "    df = df.dropna()\n",
    "\n",
    "    # fixing peafnow  --> get rid of peafnow\n",
    "    df[df.peafnow == 1].loc[:,'peafever'] = 1\n",
    "\n",
    "    #work done to fix usual_hours_worked with manual imputation \n",
    "    #mean hours worked for those less that work less than 35\n",
    "    more_than_35 = round(df[df.pehruslt > 35].pehruslt.mean())\n",
    "    #mean hours worked for those less that work less than 35\n",
    "    less_than_35 = round(df[(df.pehruslt > 0) & (df.pehruslt < 35)].pehruslt.mean())\n",
    "    df[['pehrftpt', 'pehruslt']].value_counts()\n",
    "\n",
    "    df[df.pehrftpt == 1].loc[:,'pehruslt'] = more_than_35\n",
    "    df[df.pehrftpt == 2].loc[:,'pehruslt'] = less_than_35\n",
    "\n",
    "    # remove responses from people not in the labor force by means other that discouragement\n",
    "    df = df[df.prempnot != 4]\n",
    "    # remove responses from unqualified respondents (children and active armed forces members)\n",
    "    df = df[df.prempnot != (-1)]\n",
    "    # binary recode of premmpnot to include repsondents discourage from workforce participation as unemployed\n",
    "    df.prempnot = np.where(df.prempnot == 1, 1, 0)\n",
    "\n",
    "    return df\n",
    "\n",
    "\n",
    "def prep_columns(df): \n",
    "    ''' \n",
    "    Purpose:\n",
    "\n",
    "    ---\n",
    "\n",
    "    Parameters:\n",
    "\n",
    "    ---\n",
    "\n",
    "    Output:\n",
    "    \n",
    "    ---\n",
    "    '''\n",
    "\n",
    "    df['ptdtrace'] = df['ptdtrace'].apply(flatten_race)\n",
    "\n",
    "    final_list = ['hehousut', 'hefaminc', 'hrnumhou', 'hrhtype','hubus',\\\n",
    "    'gediv', 'gestfips', 'gtmetsta', 'gtcbsasz', 'prtage', 'pesex', \\\n",
    "    'pemaritl', 'peafever', 'peeduca', 'ptdtrace', 'pehspnon', 'penatvty', 'pemntvty',\n",
    "    'pefntvty', 'prcitshp', 'pubus1', 'pehruslt', 'pelkavl', 'pedwlko', 'pedwwk', 'pejhwant', 'prempnot',\\\n",
    "    'prmjind1', 'prmjocc1', 'peschenr', 'prchld', 'pecert1']\n",
    "\n",
    "    df = df[final_list]\n",
    "\n",
    "    df = df.rename(columns={'hehousut': 'housing_type',\n",
    "        'hefaminc': 'family_income',\n",
    "        'hrnumhou': 'household_num',\n",
    "        'hrhtype': 'household_type',\n",
    "        'hubus': 'own_bus_or_farm',\n",
    "        'gediv': 'country_region',\n",
    "        'gestfips': 'state',\n",
    "        'gtmetsta': 'metropolitan',\n",
    "        'gtcbsasz': 'metro_area_size',\n",
    "        'prtage': 'age',\n",
    "        'pesex': 'is_male',\n",
    "        'pemaritl': 'marital_status',\n",
    "        'peafever': 'veteran',\n",
    "        'peeduca': 'education',\n",
    "        'ptdtrace': 'race',\n",
    "        'pehspnon': 'hispanic_or_non',\n",
    "        'penatvty': 'birth_country',\n",
    "        'pemntvty': 'mother_birth_country',\n",
    "        'pefntvty': 'father_birth_country',\n",
    "        'prcitshp': 'citizenship',\n",
    "        'pubus1': 'upaid_work_last_week',\n",
    "        'pehruslt': 'usual_hours_worked',\n",
    "        'prempnot': 'employed',\n",
    "        'prmjind1': 'industry',\n",
    "        'prmjocc1': 'occupation',\n",
    "        'peschenr': 'enrolled_in_school',\n",
    "        'prchld': 'children_in_household',\n",
    "        'pecert1': 'professional_certification'})\n",
    "\n",
    "    #fixing types on categorical columns\n",
    "    categorical_cols = ['housing_type','family_income','household_type',\n",
    "                        'country_region','state','metropolitan','metro_area_size',\n",
    "                        'marital_status','education','race','birth_country',\n",
    "                        'mother_birth_country','father_birth_country','citizenship',\n",
    "                        'industry','occupation']\n",
    "\n",
    "    binary_cols = ['own_bus_or_farm', 'is_male', 'veteran','hispanic_or_non', \n",
    "                'upaid_work_last_week','employed',\n",
    "                'enrolled_in_school','professional_certification']  \n",
    "\n",
    "    #for loop to handle assignment as object\n",
    "    for col in categorical_cols:\n",
    "        df[col] = (df[col].astype('object'))\n",
    "\n",
    "    # changed all non-affirmative answers to negative. tips, school, most affected\n",
    "    for col in binary_cols:\n",
    "        df[col] = np.where(df[col] == 1, 1, 0)                                 \n",
    "\n",
    "    return df"
   ]
  },
  {
   "cell_type": "code",
   "execution_count": 33,
   "metadata": {},
   "outputs": [],
   "source": [
    "def prep_aug():\n",
    "    ''' \n",
    "    Purpose:\n",
    "\n",
    "    ---\n",
    "\n",
    "    Parameters:\n",
    "\n",
    "    ---\n",
    "\n",
    "    Output:\n",
    "    \n",
    "    ---\n",
    "    '''\n",
    "\n",
    "    df = acquire_aug()\n",
    "\n",
    "    df = prep_values(df)\n",
    "\n",
    "    df = prep_columns(df)\n",
    "\n",
    "    return df"
   ]
  },
  {
   "cell_type": "code",
   "execution_count": 34,
   "metadata": {},
   "outputs": [
    {
     "name": "stderr",
     "output_type": "stream",
     "text": [
      "/var/folders/x7/9w9mh0fd73zg4jr8l_9v9h840000gn/T/ipykernel_73387/4138682974.py:73: SettingWithCopyWarning: \n",
      "A value is trying to be set on a copy of a slice from a DataFrame.\n",
      "Try using .loc[row_indexer,col_indexer] = value instead\n",
      "\n",
      "See the caveats in the documentation: https://pandas.pydata.org/pandas-docs/stable/user_guide/indexing.html#returning-a-view-versus-a-copy\n",
      "  df[df.peafnow == 1].loc[:,'peafever'] = 1\n",
      "/var/folders/x7/9w9mh0fd73zg4jr8l_9v9h840000gn/T/ipykernel_73387/4138682974.py:82: SettingWithCopyWarning: \n",
      "A value is trying to be set on a copy of a slice from a DataFrame.\n",
      "Try using .loc[row_indexer,col_indexer] = value instead\n",
      "\n",
      "See the caveats in the documentation: https://pandas.pydata.org/pandas-docs/stable/user_guide/indexing.html#returning-a-view-versus-a-copy\n",
      "  df[df.pehrftpt == 1].loc[:,'pehruslt'] = more_than_35\n",
      "/var/folders/x7/9w9mh0fd73zg4jr8l_9v9h840000gn/T/ipykernel_73387/4138682974.py:83: SettingWithCopyWarning: \n",
      "A value is trying to be set on a copy of a slice from a DataFrame.\n",
      "Try using .loc[row_indexer,col_indexer] = value instead\n",
      "\n",
      "See the caveats in the documentation: https://pandas.pydata.org/pandas-docs/stable/user_guide/indexing.html#returning-a-view-versus-a-copy\n",
      "  df[df.pehrftpt == 2].loc[:,'pehruslt'] = less_than_35\n"
     ]
    }
   ],
   "source": [
    "test = prep_aug()"
   ]
  },
  {
   "cell_type": "code",
   "execution_count": 35,
   "metadata": {},
   "outputs": [
    {
     "name": "stdout",
     "output_type": "stream",
     "text": [
      "<class 'pandas.core.frame.DataFrame'>\n",
      "Int64Index: 50806 entries, 1 to 127917\n",
      "Data columns (total 32 columns):\n",
      " #   Column                      Non-Null Count  Dtype  \n",
      "---  ------                      --------------  -----  \n",
      " 0   housing_type                50806 non-null  object \n",
      " 1   family_income               50806 non-null  object \n",
      " 2   household_num               50806 non-null  int64  \n",
      " 3   household_type              50806 non-null  object \n",
      " 4   own_bus_or_farm             50806 non-null  int64  \n",
      " 5   country_region              50806 non-null  object \n",
      " 6   state                       50806 non-null  object \n",
      " 7   metropolitan                50806 non-null  object \n",
      " 8   metro_area_size             50806 non-null  object \n",
      " 9   age                         50806 non-null  float64\n",
      " 10  is_male                     50806 non-null  int64  \n",
      " 11  marital_status              50806 non-null  object \n",
      " 12  veteran                     50806 non-null  int64  \n",
      " 13  education                   50806 non-null  object \n",
      " 14  race                        50806 non-null  object \n",
      " 15  hispanic_or_non             50806 non-null  int64  \n",
      " 16  birth_country               50806 non-null  object \n",
      " 17  mother_birth_country        50806 non-null  object \n",
      " 18  father_birth_country        50806 non-null  object \n",
      " 19  citizenship                 50806 non-null  object \n",
      " 20  upaid_work_last_week        50806 non-null  int64  \n",
      " 21  usual_hours_worked          50806 non-null  float64\n",
      " 22  pelkavl                     50806 non-null  float64\n",
      " 23  pedwlko                     50806 non-null  float64\n",
      " 24  pedwwk                      50806 non-null  float64\n",
      " 25  pejhwant                    50806 non-null  float64\n",
      " 26  employed                    50806 non-null  int64  \n",
      " 27  industry                    50806 non-null  object \n",
      " 28  occupation                  50806 non-null  object \n",
      " 29  enrolled_in_school          50806 non-null  int64  \n",
      " 30  children_in_household       50806 non-null  float64\n",
      " 31  professional_certification  50806 non-null  int64  \n",
      "dtypes: float64(7), int64(9), object(16)\n",
      "memory usage: 12.8+ MB\n"
     ]
    }
   ],
   "source": [
    "test.info()"
   ]
  },
  {
   "cell_type": "code",
   "execution_count": 36,
   "metadata": {},
   "outputs": [
    {
     "data": {
      "text/plain": [
       "<module 'wrangle' from '/Users/sinao/coding_projects/oct_2022_unemployment_project/wrangle.py'>"
      ]
     },
     "execution_count": 36,
     "metadata": {},
     "output_type": "execute_result"
    }
   ],
   "source": [
    "reload(wrangle)"
   ]
  },
  {
   "cell_type": "markdown",
   "metadata": {},
   "source": []
  },
  {
   "cell_type": "markdown",
   "metadata": {},
   "source": [
    "# October Work"
   ]
  },
  {
   "cell_type": "markdown",
   "metadata": {},
   "source": [
    "# Acquire  "
   ]
  },
  {
   "cell_type": "code",
   "execution_count": 55,
   "metadata": {},
   "outputs": [],
   "source": [
    "df = pd.read_csv('oct22pub.csv')"
   ]
  },
  {
   "cell_type": "code",
   "execution_count": 56,
   "metadata": {},
   "outputs": [
    {
     "name": "stdout",
     "output_type": "stream",
     "text": [
      "<class 'pandas.core.frame.DataFrame'>\n",
      "RangeIndex: 126649 entries, 0 to 126648\n",
      "Columns: 388 entries, hrhhid2 to pternh2\n",
      "dtypes: float64(337), int64(51)\n",
      "memory usage: 374.9 MB\n"
     ]
    }
   ],
   "source": [
    "df.info()"
   ]
  },
  {
   "cell_type": "code",
   "execution_count": null,
   "metadata": {},
   "outputs": [],
   "source": [
    "# list to hold columns for masking. "
   ]
  },
  {
   "cell_type": "code",
   "execution_count": 57,
   "metadata": {},
   "outputs": [],
   "source": [
    "columns_to_keep = [ 'hehousut',\n",
    "                    'hrnumhou', \n",
    "                    'hefaminc',\n",
    "                    'hrhtype',\n",
    "                    'hubus',\n",
    "                    'gediv',\n",
    "                    'gestfips',\n",
    "                    'gtmetsta',\n",
    "                    'gtcbsasz',\n",
    "                    'prtage',\n",
    "                    'pemaritl',\n",
    "                    'pesex',\n",
    "                    'peafever',\n",
    "                    'peeduca',\n",
    "                    'ptdtrace', \n",
    "                    'pehspnon',\n",
    "                    'penatvty',\n",
    "                    'pemntvty',\n",
    "                    'pefntvty', \n",
    "                    'prcitshp', \n",
    "                    'prinuyer',\n",
    "                    'pubus1', \n",
    "                    'pehrftpt',\n",
    "                    'pejhwko',\n",
    "                    'prempnot',\n",
    "                    'prftlf',\n",
    "                    'prcow1',\n",
    "                    'prmjind1',\n",
    "                    'prmjocc1', \n",
    "                    'peernhry',\n",
    "                    'peschenr', \n",
    "                    'prnmchld',\n",
    "                    'pedipged',\n",
    "                    'peafwhn1',\n",
    "                    'pecert1',\\\n",
    "                    \n",
    "        ]"
   ]
  },
  {
   "cell_type": "code",
   "execution_count": 58,
   "metadata": {},
   "outputs": [],
   "source": [
    "df.columns = df.columns.str.lower()"
   ]
  },
  {
   "cell_type": "code",
   "execution_count": 59,
   "metadata": {},
   "outputs": [],
   "source": [
    "df = df[columns_to_keep]"
   ]
  },
  {
   "cell_type": "code",
   "execution_count": 60,
   "metadata": {},
   "outputs": [],
   "source": [
    "df = df.rename(columns={'hehousut': 'housing_type',\n",
    "        'hrnumhou': 'household_num',\n",
    "        'hefaminc': 'family_income',\n",
    "        'hrhtype': 'household_type',\n",
    "        'hubus': 'own_bus_or_farm',\n",
    "        'gediv': 'country_region',\n",
    "        'gestfips': 'state',\n",
    "        'gtmetsta': 'metropolitan',\n",
    "        'gtcbsasz': 'metro_area_size',\n",
    "        'prtage': 'age',\n",
    "        'pemaritl': 'marital_status',\n",
    "        'pesex': 'is_male',\n",
    "        'peafever': 'veteran',\n",
    "        'peeduca': 'education',\n",
    "        'ptdtrace': 'race',\n",
    "        'pehspnon': 'hispanic_or_non',\n",
    "        'penatvty': 'birth_country',\n",
    "        'pemntvty': 'mother_birth_country',\n",
    "        'pefntvty': 'father_birth_country',\n",
    "        'prcitshp': 'citizenship',        \n",
    "        'prinuyer': 'immigration_era',\n",
    "        'pubus1': 'upaid_work_last_week',\n",
    "        'pehrftpt': 'usual_35_or_more',\n",
    "        'pejhwko': 'job_past_12_months', \n",
    "        'prempnot': 'employed',\n",
    "        'prftlf': 'ft_or_pt',\n",
    "        'prcow1': 'worker_class',\n",
    "        'prmjind1': 'industry',\n",
    "        'prmjocc1': 'occupation',\n",
    "        'peernhry': 'hourly', \n",
    "        'peschenr': 'enrolled_in_school',\n",
    "        'prnmchld': 'num_children',\n",
    "        'pedipged': 'ged_or_diploma',\n",
    "        'peafwhn1': 'service_era',\n",
    "        'pecert1': 'professional_certification'})"
   ]
  },
  {
   "cell_type": "code",
   "execution_count": 61,
   "metadata": {},
   "outputs": [
    {
     "name": "stdout",
     "output_type": "stream",
     "text": [
      "<class 'pandas.core.frame.DataFrame'>\n",
      "RangeIndex: 126649 entries, 0 to 126648\n",
      "Data columns (total 35 columns):\n",
      " #   Column                      Non-Null Count   Dtype  \n",
      "---  ------                      --------------   -----  \n",
      " 0   housing_type                126649 non-null  int64  \n",
      " 1   household_num               126649 non-null  int64  \n",
      " 2   family_income               126649 non-null  int64  \n",
      " 3   household_type              126649 non-null  int64  \n",
      " 4   own_bus_or_farm             126649 non-null  int64  \n",
      " 5   country_region              126649 non-null  int64  \n",
      " 6   state                       126649 non-null  int64  \n",
      " 7   metropolitan                126649 non-null  int64  \n",
      " 8   metro_area_size             126649 non-null  int64  \n",
      " 9   age                         100839 non-null  float64\n",
      " 10  marital_status              100839 non-null  float64\n",
      " 11  is_male                     100839 non-null  float64\n",
      " 12  veteran                     100839 non-null  float64\n",
      " 13  education                   100839 non-null  float64\n",
      " 14  race                        100839 non-null  float64\n",
      " 15  hispanic_or_non             100839 non-null  float64\n",
      " 16  birth_country               100839 non-null  float64\n",
      " 17  mother_birth_country        100839 non-null  float64\n",
      " 18  father_birth_country        100839 non-null  float64\n",
      " 19  citizenship                 100839 non-null  float64\n",
      " 20  immigration_era             100839 non-null  float64\n",
      " 21  upaid_work_last_week        100839 non-null  float64\n",
      " 22  usual_35_or_more            100839 non-null  float64\n",
      " 23  job_past_12_months          100839 non-null  float64\n",
      " 24  employed                    100839 non-null  float64\n",
      " 25  ft_or_pt                    100839 non-null  float64\n",
      " 26  worker_class                100839 non-null  float64\n",
      " 27  industry                    100839 non-null  float64\n",
      " 28  occupation                  100839 non-null  float64\n",
      " 29  hourly                      100839 non-null  float64\n",
      " 30  enrolled_in_school          100839 non-null  float64\n",
      " 31  num_children                100839 non-null  float64\n",
      " 32  ged_or_diploma              100839 non-null  float64\n",
      " 33  service_era                 100839 non-null  float64\n",
      " 34  professional_certification  126625 non-null  float64\n",
      "dtypes: float64(26), int64(9)\n",
      "memory usage: 33.8 MB\n"
     ]
    }
   ],
   "source": [
    "df.info()"
   ]
  },
  {
   "cell_type": "markdown",
   "metadata": {},
   "source": [
    "# Prepare "
   ]
  },
  {
   "cell_type": "markdown",
   "metadata": {},
   "source": [
    "### drop any NILF(not in labor force or with -1)"
   ]
  },
  {
   "cell_type": "code",
   "execution_count": 63,
   "metadata": {},
   "outputs": [
    {
     "data": {
      "text/plain": [
       " 1.0    48086\n",
       " 4.0    33496\n",
       "-1.0    17580\n",
       " 2.0     1589\n",
       " 3.0       88\n",
       "Name: employed, dtype: int64"
      ]
     },
     "execution_count": 63,
     "metadata": {},
     "output_type": "execute_result"
    }
   ],
   "source": [
    "df.employed.value_counts(0)"
   ]
  },
  {
   "cell_type": "code",
   "execution_count": 69,
   "metadata": {},
   "outputs": [],
   "source": [
    "df = df[(df.employed == 1) | (df.employed == 2)].reset_index(drop=True)"
   ]
  },
  {
   "cell_type": "markdown",
   "metadata": {},
   "source": [
    "### check for null values"
   ]
  },
  {
   "cell_type": "code",
   "execution_count": 70,
   "metadata": {},
   "outputs": [
    {
     "data": {
      "text/plain": [
       "housing_type                  0\n",
       "household_num                 0\n",
       "family_income                 0\n",
       "household_type                0\n",
       "own_bus_or_farm               0\n",
       "country_region                0\n",
       "state                         0\n",
       "metropolitan                  0\n",
       "metro_area_size               0\n",
       "age                           0\n",
       "marital_status                0\n",
       "is_male                       0\n",
       "veteran                       0\n",
       "education                     0\n",
       "race                          0\n",
       "hispanic_or_non               0\n",
       "birth_country                 0\n",
       "mother_birth_country          0\n",
       "father_birth_country          0\n",
       "citizenship                   0\n",
       "immigration_era               0\n",
       "upaid_work_last_week          0\n",
       "usual_35_or_more              0\n",
       "job_past_12_months            0\n",
       "employed                      0\n",
       "ft_or_pt                      0\n",
       "worker_class                  0\n",
       "industry                      0\n",
       "occupation                    0\n",
       "hourly                        0\n",
       "enrolled_in_school            0\n",
       "num_children                  0\n",
       "ged_or_diploma                0\n",
       "service_era                   0\n",
       "professional_certification    0\n",
       "dtype: int64"
      ]
     },
     "execution_count": 70,
     "metadata": {},
     "output_type": "execute_result"
    }
   ],
   "source": [
    "df.isna()"
   ]
  },
  {
   "cell_type": "code",
   "execution_count": 71,
   "metadata": {},
   "outputs": [
    {
     "data": {
      "text/plain": [
       "2     16209\n",
       "3      9881\n",
       "4      9622\n",
       "1      6358\n",
       "5      4511\n",
       "6      1905\n",
       "7       692\n",
       "8       278\n",
       "9       129\n",
       "10       36\n",
       "11       35\n",
       "12       12\n",
       "13        7\n",
       "Name: household_num, dtype: int64"
      ]
     },
     "execution_count": 71,
     "metadata": {},
     "output_type": "execute_result"
    }
   ],
   "source": [
    "df.household_num.value_counts()"
   ]
  },
  {
   "cell_type": "code",
   "execution_count": 74,
   "metadata": {},
   "outputs": [
    {
     "name": "stdout",
     "output_type": "stream",
     "text": [
      "housing_type\n",
      "1     47832\n",
      "5      1556\n",
      "6       220\n",
      "2        17\n",
      "7        13\n",
      "3        13\n",
      "4        12\n",
      "12       10\n",
      "8         2\n",
      "Name: housing_type, dtype: int64\n",
      "---\n",
      "household_num\n",
      "2     16209\n",
      "3      9881\n",
      "4      9622\n",
      "1      6358\n",
      "5      4511\n",
      "6      1905\n",
      "7       692\n",
      "8       278\n",
      "9       129\n",
      "10       36\n",
      "11       35\n",
      "12       12\n",
      "13        7\n",
      "Name: household_num, dtype: int64\n",
      "---\n",
      "family_income\n",
      "16    11746\n",
      "15     9544\n",
      "14     7342\n",
      "13     5248\n",
      "12     3748\n",
      "11     3248\n",
      "10     2084\n",
      "9      1844\n",
      "8      1251\n",
      "7      1088\n",
      "6       725\n",
      "4       466\n",
      "1       426\n",
      "5       384\n",
      "2       285\n",
      "3       246\n",
      "Name: family_income, dtype: int64\n",
      "---\n",
      "household_type\n",
      "1     28921\n",
      "6      6162\n",
      "4      6125\n",
      "7      4805\n",
      "3      3428\n",
      "2       189\n",
      "5        17\n",
      "8        16\n",
      "9         8\n",
      "10        4\n",
      "Name: household_type, dtype: int64\n",
      "---\n",
      "own_bus_or_farm\n",
      " 2    40996\n",
      " 1     8518\n",
      "-3      119\n",
      "-2       41\n",
      "-1        1\n",
      "Name: own_bus_or_farm, dtype: int64\n",
      "---\n",
      "country_region\n",
      "5    9129\n",
      "9    7377\n",
      "8    6184\n",
      "7    5470\n",
      "3    5245\n",
      "4    4825\n",
      "2    4202\n",
      "1    3976\n",
      "6    3267\n",
      "Name: country_region, dtype: int64\n",
      "---\n",
      "state\n",
      "6     4304\n",
      "48    2891\n",
      "12    2313\n",
      "36    1854\n",
      "42    1416\n",
      "17    1379\n",
      "37    1289\n",
      "25    1234\n",
      "39    1204\n",
      "26    1139\n",
      "22    1025\n",
      "13    1021\n",
      "1      999\n",
      "53     982\n",
      "49     956\n",
      "51     935\n",
      "34     932\n",
      "47     926\n",
      "11     898\n",
      "54     856\n",
      "5      835\n",
      "30     831\n",
      "41     829\n",
      "16     827\n",
      "4      819\n",
      "18     809\n",
      "28     793\n",
      "27     764\n",
      "38     758\n",
      "29     747\n",
      "45     720\n",
      "40     719\n",
      "55     714\n",
      "8      710\n",
      "35     707\n",
      "33     698\n",
      "15     676\n",
      "32     672\n",
      "20     667\n",
      "31     664\n",
      "56     662\n",
      "50     661\n",
      "46     616\n",
      "19     609\n",
      "24     597\n",
      "2      586\n",
      "21     549\n",
      "9      546\n",
      "10     500\n",
      "44     451\n",
      "23     386\n",
      "Name: state, dtype: int64\n",
      "---\n",
      "metropolitan\n",
      "1    40961\n",
      "2     8213\n",
      "3      501\n",
      "Name: metropolitan, dtype: int64\n",
      "---\n",
      "metro_area_size\n",
      "0    11652\n",
      "7     9726\n",
      "5     7728\n",
      "4     6686\n",
      "6     6155\n",
      "2     3892\n",
      "3     3836\n",
      "Name: metro_area_size, dtype: int64\n",
      "---\n",
      "age\n",
      "40.0    1144\n",
      "41.0    1140\n",
      "36.0    1126\n",
      "37.0    1125\n",
      "34.0    1104\n",
      "        ... \n",
      "76.0     121\n",
      "85.0      81\n",
      "78.0      81\n",
      "77.0      79\n",
      "79.0      75\n",
      "Name: age, Length: 67, dtype: int64\n",
      "---\n",
      "marital_status\n",
      "1.0    25918\n",
      "6.0    16061\n",
      "4.0     4986\n",
      "3.0     1001\n",
      "5.0      952\n",
      "2.0      757\n",
      "Name: marital_status, dtype: int64\n",
      "---\n",
      "is_male\n",
      "1.0    26034\n",
      "2.0    23641\n",
      "Name: is_male, dtype: int64\n",
      "---\n",
      "veteran\n",
      " 2.0    46775\n",
      " 1.0     2495\n",
      "-1.0      405\n",
      "Name: veteran, dtype: int64\n",
      "---\n",
      "education\n",
      "39.0    12957\n",
      "43.0    12453\n",
      "40.0     7662\n",
      "44.0     5590\n",
      "42.0     3045\n",
      "41.0     2283\n",
      "46.0     1255\n",
      "37.0      875\n",
      "45.0      812\n",
      "36.0      647\n",
      "38.0      605\n",
      "35.0      452\n",
      "34.0      418\n",
      "33.0      388\n",
      "32.0      173\n",
      "31.0       60\n",
      "Name: education, dtype: int64\n",
      "---\n",
      "race\n",
      "1.0     39728\n",
      "2.0      5116\n",
      "4.0      3096\n",
      "3.0       547\n",
      "5.0       264\n",
      "6.0       253\n",
      "7.0       250\n",
      "8.0       219\n",
      "9.0        42\n",
      "15.0       39\n",
      "11.0       29\n",
      "10.0       28\n",
      "21.0       21\n",
      "16.0       17\n",
      "12.0        6\n",
      "19.0        6\n",
      "17.0        3\n",
      "13.0        3\n",
      "26.0        2\n",
      "20.0        2\n",
      "23.0        2\n",
      "18.0        1\n",
      "14.0        1\n",
      "Name: race, dtype: int64\n",
      "---\n",
      "hispanic_or_non\n",
      "2.0    41979\n",
      "1.0     7696\n",
      "Name: hispanic_or_non, dtype: int64\n",
      "---\n",
      "birth_country\n",
      "57.0     41195\n",
      "303.0     1975\n",
      "210.0      550\n",
      "233.0      446\n",
      "207.0      317\n",
      "         ...  \n",
      "159.0        1\n",
      "321.0        1\n",
      "168.0        1\n",
      "140.0        1\n",
      "338.0        1\n",
      "Name: birth_country, Length: 159, dtype: int64\n",
      "---\n",
      "mother_birth_country\n",
      "57.0     38061\n",
      "303.0     3038\n",
      "210.0      639\n",
      "233.0      620\n",
      "207.0      449\n",
      "         ...  \n",
      "338.0        2\n",
      "142.0        1\n",
      "156.0        1\n",
      "159.0        1\n",
      "369.0        1\n",
      "Name: mother_birth_country, Length: 160, dtype: int64\n",
      "---\n",
      "father_birth_country\n",
      "57.0     38090\n",
      "303.0     3097\n",
      "210.0      654\n",
      "233.0      577\n",
      "207.0      455\n",
      "         ...  \n",
      "369.0        1\n",
      "159.0        1\n",
      "321.0        1\n",
      "430.0        1\n",
      "118.0        1\n",
      "Name: father_birth_country, Length: 159, dtype: int64\n",
      "---\n",
      "citizenship\n",
      "1.0    41203\n",
      "5.0     3893\n",
      "4.0     3875\n",
      "3.0      460\n",
      "2.0      244\n",
      "Name: citizenship, dtype: int64\n",
      "---\n",
      "immigration_era\n",
      "0.0     41203\n",
      "17.0      690\n",
      "27.0      518\n",
      "25.0      467\n",
      "16.0      453\n",
      "18.0      433\n",
      "24.0      428\n",
      "19.0      427\n",
      "26.0      401\n",
      "15.0      388\n",
      "22.0      381\n",
      "12.0      378\n",
      "20.0      377\n",
      "23.0      363\n",
      "13.0      337\n",
      "14.0      331\n",
      "21.0      309\n",
      "11.0      283\n",
      "6.0       245\n",
      "7.0       235\n",
      "9.0       230\n",
      "10.0      222\n",
      "5.0       184\n",
      "8.0       148\n",
      "4.0       125\n",
      "3.0        66\n",
      "2.0        49\n",
      "1.0         4\n",
      "Name: immigration_era, dtype: int64\n",
      "---\n",
      "upaid_work_last_week\n",
      "-1.0    48885\n",
      " 2.0      491\n",
      " 1.0      298\n",
      "-2.0        1\n",
      "Name: upaid_work_last_week, dtype: int64\n",
      "---\n",
      "usual_35_or_more\n",
      "-1.0    46523\n",
      " 1.0     2371\n",
      " 2.0      781\n",
      "Name: usual_35_or_more, dtype: int64\n",
      "---\n",
      "job_past_12_months\n",
      "-1.0    49675\n",
      "Name: job_past_12_months, dtype: int64\n",
      "---\n",
      "employed\n",
      "1.0    48086\n",
      "2.0     1589\n",
      "Name: employed, dtype: int64\n",
      "---\n",
      "ft_or_pt\n",
      "1.0    41181\n",
      "2.0     8494\n",
      "Name: ft_or_pt, dtype: int64\n",
      "---\n",
      "worker_class\n",
      " 4.0    39303\n",
      " 5.0     3307\n",
      " 3.0     2994\n",
      " 2.0     2480\n",
      " 1.0     1429\n",
      "-1.0      138\n",
      " 6.0       24\n",
      "Name: worker_class, dtype: int64\n",
      "---\n",
      "industry\n",
      " 10.0    11184\n",
      " 9.0      6209\n",
      " 5.0      6103\n",
      " 4.0      4572\n",
      " 11.0     4269\n",
      " 3.0      3725\n",
      " 8.0      3320\n",
      " 6.0      2990\n",
      " 13.0     2550\n",
      " 12.0     2478\n",
      " 1.0       960\n",
      " 7.0       913\n",
      " 2.0       259\n",
      "-1.0       138\n",
      " 14.0        5\n",
      "Name: industry, dtype: int64\n",
      "---\n",
      "occupation\n",
      " 2.0     12145\n",
      " 1.0      9361\n",
      " 3.0      7820\n",
      " 5.0      4935\n",
      " 4.0      4456\n",
      " 10.0     3659\n",
      " 7.0      2697\n",
      " 9.0      2554\n",
      " 8.0      1521\n",
      " 6.0       384\n",
      "-1.0       138\n",
      " 11.0        5\n",
      "Name: occupation, dtype: int64\n",
      "---\n",
      "hourly\n",
      "-1.0    38890\n",
      " 1.0     5961\n",
      " 2.0     4824\n",
      "Name: hourly, dtype: int64\n",
      "---\n",
      "enrolled_in_school\n",
      " 2.0    33407\n",
      "-1.0    13066\n",
      " 1.0     3202\n",
      "Name: enrolled_in_school, dtype: int64\n",
      "---\n",
      "num_children\n",
      "0.0    34438\n",
      "1.0     6482\n",
      "2.0     5762\n",
      "3.0     2169\n",
      "4.0      644\n",
      "5.0      109\n",
      "6.0       48\n",
      "7.0       14\n",
      "8.0        8\n",
      "9.0        1\n",
      "Name: num_children, dtype: int64\n",
      "---\n",
      "ged_or_diploma\n",
      "-1.0    36718\n",
      " 1.0    11852\n",
      " 2.0     1105\n",
      "Name: ged_or_diploma, dtype: int64\n",
      "---\n",
      "service_era\n",
      "-1.0    47180\n",
      " 1.0      857\n",
      " 3.0      677\n",
      " 2.0      589\n",
      " 4.0      324\n",
      " 5.0       42\n",
      " 6.0        3\n",
      " 7.0        2\n",
      " 8.0        1\n",
      "Name: service_era, dtype: int64\n",
      "---\n",
      "professional_certification\n",
      "2.0    37517\n",
      "1.0    12158\n",
      "Name: professional_certification, dtype: int64\n",
      "---\n"
     ]
    }
   ],
   "source": [
    "for col in df.columns:\n",
    "    print(col)\n",
    "    print(df[col].value_counts())\n",
    "    print('---')"
   ]
  }
 ],
 "metadata": {
  "kernelspec": {
   "display_name": "Python 3.9.12 ('base')",
   "language": "python",
   "name": "python3"
  },
  "language_info": {
   "codemirror_mode": {
    "name": "ipython",
    "version": 3
   },
   "file_extension": ".py",
   "mimetype": "text/x-python",
   "name": "python",
   "nbconvert_exporter": "python",
   "pygments_lexer": "ipython3",
   "version": "3.9.12"
  },
  "orig_nbformat": 4,
  "vscode": {
   "interpreter": {
    "hash": "38cca0c38332a56087b24af0bc80247f4fced29cb4f7f437d91dc159adec9c4e"
   }
  }
 },
 "nbformat": 4,
 "nbformat_minor": 2
}
